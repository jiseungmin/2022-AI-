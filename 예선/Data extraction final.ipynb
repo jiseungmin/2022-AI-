{
 "cells": [
  {
   "cell_type": "code",
   "execution_count": 1,
   "id": "93be0555",
   "metadata": {},
   "outputs": [],
   "source": [
    "import pandas as pd\n",
    "import matplotlib.pyplot as plt\n",
    "import matplotlib\n",
    "import numpy as np\n",
    "matplotlib.rcParams['font.family'] = \"AppleGothic\"\n",
    "matplotlib.rcParams['font.size'] = 15\n",
    "matplotlib.rcParams['axes.unicode_minus'] = False # 한글 폰트 사용시 마이너스 깨짐 현상 해결"
   ]
  },
  {
   "cell_type": "markdown",
   "id": "424ae30f",
   "metadata": {},
   "source": [
    "# 데이터 확인하기"
   ]
  },
  {
   "cell_type": "code",
   "execution_count": 2,
   "id": "bcf7d96c",
   "metadata": {},
   "outputs": [],
   "source": [
    "df1 = pd.read_csv('test.csv')\n",
    "df2 = pd.read_csv(\"train.csv\")"
   ]
  },
  {
   "cell_type": "code",
   "execution_count": 3,
   "id": "cfa5db7e",
   "metadata": {},
   "outputs": [
    {
     "name": "stdout",
     "output_type": "stream",
     "text": [
      "<class 'pandas.core.frame.DataFrame'>\n",
      "RangeIndex: 35452 entries, 0 to 35451\n",
      "Data columns (total 69 columns):\n",
      " #   Column        Non-Null Count  Dtype  \n",
      "---  ------        --------------  -----  \n",
      " 0   index         35452 non-null  int64  \n",
      " 1   Q1            35333 non-null  float64\n",
      " 2   Q2            35305 non-null  float64\n",
      " 3   Q3            35322 non-null  float64\n",
      " 4   Q4            35327 non-null  float64\n",
      " 5   Q5            35362 non-null  float64\n",
      " 6   Q6            35320 non-null  float64\n",
      " 7   Q7            35310 non-null  float64\n",
      " 8   Q8            35344 non-null  float64\n",
      " 9   Q9            35348 non-null  float64\n",
      " 10  Q10           35232 non-null  float64\n",
      " 11  Q11           35333 non-null  float64\n",
      " 12  Q12           35303 non-null  float64\n",
      " 13  Q13           35356 non-null  float64\n",
      " 14  Q14           35350 non-null  float64\n",
      " 15  Q15           35345 non-null  float64\n",
      " 16  Q16           35367 non-null  float64\n",
      " 17  Q17           35373 non-null  float64\n",
      " 18  Q18           35305 non-null  float64\n",
      " 19  Q19           35355 non-null  float64\n",
      " 20  Q20           35333 non-null  float64\n",
      " 21  Q21           35329 non-null  float64\n",
      " 22  Q22           35370 non-null  float64\n",
      " 23  Q23           35338 non-null  float64\n",
      " 24  Q24           35327 non-null  float64\n",
      " 25  Q25           35344 non-null  float64\n",
      " 26  Q26           35344 non-null  float64\n",
      " 27  country       35002 non-null  object \n",
      " 28  introelapse   35452 non-null  int64  \n",
      " 29  testelapse    35452 non-null  int64  \n",
      " 30  surveyelapse  35452 non-null  int64  \n",
      " 31  TIPI1         35345 non-null  float64\n",
      " 32  TIPI2         35330 non-null  float64\n",
      " 33  TIPI3         35289 non-null  float64\n",
      " 34  TIPI4         35314 non-null  float64\n",
      " 35  TIPI5         35312 non-null  float64\n",
      " 36  TIPI6         35324 non-null  float64\n",
      " 37  TIPI7         35318 non-null  float64\n",
      " 38  TIPI8         35325 non-null  float64\n",
      " 39  TIPI9         35322 non-null  float64\n",
      " 40  TIPI10        35276 non-null  float64\n",
      " 41  VCL1          35452 non-null  int64  \n",
      " 42  VCL2          35452 non-null  int64  \n",
      " 43  VCL3          35452 non-null  int64  \n",
      " 44  VCL4          35452 non-null  int64  \n",
      " 45  VCL5          35452 non-null  int64  \n",
      " 46  VCL6          35452 non-null  int64  \n",
      " 47  VCL7          35452 non-null  int64  \n",
      " 48  VCL8          35452 non-null  int64  \n",
      " 49  VCL9          35452 non-null  int64  \n",
      " 50  VCL10         35452 non-null  int64  \n",
      " 51  VCL11         35452 non-null  int64  \n",
      " 52  VCL12         35452 non-null  int64  \n",
      " 53  VCL13         35452 non-null  int64  \n",
      " 54  VCL14         35452 non-null  int64  \n",
      " 55  VCL15         35452 non-null  int64  \n",
      " 56  VCL16         35452 non-null  int64  \n",
      " 57  education     35079 non-null  float64\n",
      " 58  urban         35452 non-null  int64  \n",
      " 59  gender        35383 non-null  float64\n",
      " 60  engnat        35333 non-null  float64\n",
      " 61  age           35452 non-null  int64  \n",
      " 62  hand          35331 non-null  float64\n",
      " 63  religion      34969 non-null  float64\n",
      " 64  orientation   34629 non-null  float64\n",
      " 65  voted         35271 non-null  float64\n",
      " 66  married       35272 non-null  float64\n",
      " 67  familysize    34749 non-null  float64\n",
      " 68  ASD           35215 non-null  float64\n",
      "dtypes: float64(46), int64(22), object(1)\n",
      "memory usage: 18.7+ MB\n"
     ]
    }
   ],
   "source": [
    "df1.info()"
   ]
  },
  {
   "cell_type": "code",
   "execution_count": 4,
   "id": "fee383a3",
   "metadata": {},
   "outputs": [
    {
     "name": "stdout",
     "output_type": "stream",
     "text": [
      "<class 'pandas.core.frame.DataFrame'>\n",
      "RangeIndex: 15000 entries, 0 to 14999\n",
      "Data columns (total 70 columns):\n",
      " #   Column        Non-Null Count  Dtype  \n",
      "---  ------        --------------  -----  \n",
      " 0   index         15000 non-null  int64  \n",
      " 1   Q1            14959 non-null  float64\n",
      " 2   Q2            14931 non-null  float64\n",
      " 3   Q3            14950 non-null  float64\n",
      " 4   Q4            14929 non-null  float64\n",
      " 5   Q5            14962 non-null  float64\n",
      " 6   Q6            14952 non-null  float64\n",
      " 7   Q7            14924 non-null  float64\n",
      " 8   Q8            14952 non-null  float64\n",
      " 9   Q9            14944 non-null  float64\n",
      " 10  Q10           14928 non-null  float64\n",
      " 11  Q11           14941 non-null  float64\n",
      " 12  Q12           14933 non-null  float64\n",
      " 13  Q13           14960 non-null  float64\n",
      " 14  Q14           14964 non-null  float64\n",
      " 15  Q15           14955 non-null  float64\n",
      " 16  Q16           14967 non-null  float64\n",
      " 17  Q17           14963 non-null  float64\n",
      " 18  Q18           14937 non-null  float64\n",
      " 19  Q19           14947 non-null  float64\n",
      " 20  Q20           14955 non-null  float64\n",
      " 21  Q21           14961 non-null  float64\n",
      " 22  Q22           14962 non-null  float64\n",
      " 23  Q23           14950 non-null  float64\n",
      " 24  Q24           14939 non-null  float64\n",
      " 25  Q25           14956 non-null  float64\n",
      " 26  Q26           14932 non-null  float64\n",
      " 27  country       14810 non-null  object \n",
      " 28  introelapse   15000 non-null  int64  \n",
      " 29  testelapse    15000 non-null  int64  \n",
      " 30  surveyelapse  15000 non-null  int64  \n",
      " 31  TIPI1         14947 non-null  float64\n",
      " 32  TIPI2         14934 non-null  float64\n",
      " 33  TIPI3         14921 non-null  float64\n",
      " 34  TIPI4         14936 non-null  float64\n",
      " 35  TIPI5         14930 non-null  float64\n",
      " 36  TIPI6         14938 non-null  float64\n",
      " 37  TIPI7         14936 non-null  float64\n",
      " 38  TIPI8         14935 non-null  float64\n",
      " 39  TIPI9         14936 non-null  float64\n",
      " 40  TIPI10        14920 non-null  float64\n",
      " 41  VCL1          15000 non-null  int64  \n",
      " 42  VCL2          15000 non-null  int64  \n",
      " 43  VCL3          15000 non-null  int64  \n",
      " 44  VCL4          15000 non-null  int64  \n",
      " 45  VCL5          15000 non-null  int64  \n",
      " 46  VCL6          15000 non-null  int64  \n",
      " 47  VCL7          15000 non-null  int64  \n",
      " 48  VCL8          15000 non-null  int64  \n",
      " 49  VCL9          15000 non-null  int64  \n",
      " 50  VCL10         15000 non-null  int64  \n",
      " 51  VCL11         15000 non-null  int64  \n",
      " 52  VCL12         15000 non-null  int64  \n",
      " 53  VCL13         15000 non-null  int64  \n",
      " 54  VCL14         15000 non-null  int64  \n",
      " 55  VCL15         15000 non-null  int64  \n",
      " 56  VCL16         15000 non-null  int64  \n",
      " 57  education     14833 non-null  float64\n",
      " 58  urban         15000 non-null  int64  \n",
      " 59  gender        14981 non-null  float64\n",
      " 60  engnat        14953 non-null  float64\n",
      " 61  age           15000 non-null  int64  \n",
      " 62  hand          14953 non-null  float64\n",
      " 63  religion      14755 non-null  float64\n",
      " 64  orientation   14601 non-null  float64\n",
      " 65  voted         14915 non-null  float64\n",
      " 66  married       14918 non-null  float64\n",
      " 67  familysize    14681 non-null  float64\n",
      " 68  ASD           14911 non-null  float64\n",
      " 69  nerdiness     15000 non-null  int64  \n",
      "dtypes: float64(46), int64(23), object(1)\n",
      "memory usage: 8.0+ MB\n"
     ]
    }
   ],
   "source": [
    "df2.info()"
   ]
  },
  {
   "cell_type": "code",
   "execution_count": 5,
   "id": "5078e764",
   "metadata": {},
   "outputs": [
    {
     "data": {
      "text/html": [
       "<div>\n",
       "<style scoped>\n",
       "    .dataframe tbody tr th:only-of-type {\n",
       "        vertical-align: middle;\n",
       "    }\n",
       "\n",
       "    .dataframe tbody tr th {\n",
       "        vertical-align: top;\n",
       "    }\n",
       "\n",
       "    .dataframe thead th {\n",
       "        text-align: right;\n",
       "    }\n",
       "</style>\n",
       "<table border=\"1\" class=\"dataframe\">\n",
       "  <thead>\n",
       "    <tr style=\"text-align: right;\">\n",
       "      <th></th>\n",
       "      <th>index</th>\n",
       "      <th>Q1</th>\n",
       "      <th>Q2</th>\n",
       "      <th>Q3</th>\n",
       "      <th>Q4</th>\n",
       "      <th>Q5</th>\n",
       "      <th>Q6</th>\n",
       "      <th>Q7</th>\n",
       "      <th>Q8</th>\n",
       "      <th>Q9</th>\n",
       "      <th>...</th>\n",
       "      <th>gender</th>\n",
       "      <th>engnat</th>\n",
       "      <th>age</th>\n",
       "      <th>hand</th>\n",
       "      <th>religion</th>\n",
       "      <th>orientation</th>\n",
       "      <th>voted</th>\n",
       "      <th>married</th>\n",
       "      <th>familysize</th>\n",
       "      <th>ASD</th>\n",
       "    </tr>\n",
       "    <tr>\n",
       "      <th>nerdiness</th>\n",
       "      <th></th>\n",
       "      <th></th>\n",
       "      <th></th>\n",
       "      <th></th>\n",
       "      <th></th>\n",
       "      <th></th>\n",
       "      <th></th>\n",
       "      <th></th>\n",
       "      <th></th>\n",
       "      <th></th>\n",
       "      <th></th>\n",
       "      <th></th>\n",
       "      <th></th>\n",
       "      <th></th>\n",
       "      <th></th>\n",
       "      <th></th>\n",
       "      <th></th>\n",
       "      <th></th>\n",
       "      <th></th>\n",
       "      <th></th>\n",
       "      <th></th>\n",
       "    </tr>\n",
       "  </thead>\n",
       "  <tbody>\n",
       "    <tr>\n",
       "      <th>0</th>\n",
       "      <td>7486.277438</td>\n",
       "      <td>3.621876</td>\n",
       "      <td>3.720529</td>\n",
       "      <td>3.986365</td>\n",
       "      <td>3.431573</td>\n",
       "      <td>3.541604</td>\n",
       "      <td>3.270453</td>\n",
       "      <td>3.939835</td>\n",
       "      <td>3.545509</td>\n",
       "      <td>3.633668</td>\n",
       "      <td>...</td>\n",
       "      <td>1.685612</td>\n",
       "      <td>1.375637</td>\n",
       "      <td>24.819322</td>\n",
       "      <td>1.178111</td>\n",
       "      <td>4.239074</td>\n",
       "      <td>1.754816</td>\n",
       "      <td>1.640204</td>\n",
       "      <td>1.193204</td>\n",
       "      <td>3.044070</td>\n",
       "      <td>1.953842</td>\n",
       "    </tr>\n",
       "    <tr>\n",
       "      <th>1</th>\n",
       "      <td>7510.165001</td>\n",
       "      <td>4.256283</td>\n",
       "      <td>4.343569</td>\n",
       "      <td>4.413485</td>\n",
       "      <td>4.088929</td>\n",
       "      <td>4.110628</td>\n",
       "      <td>4.003624</td>\n",
       "      <td>4.379707</td>\n",
       "      <td>4.148332</td>\n",
       "      <td>4.142978</td>\n",
       "      <td>...</td>\n",
       "      <td>1.717058</td>\n",
       "      <td>1.322140</td>\n",
       "      <td>28.290738</td>\n",
       "      <td>1.190752</td>\n",
       "      <td>3.985467</td>\n",
       "      <td>1.922461</td>\n",
       "      <td>1.627420</td>\n",
       "      <td>1.169227</td>\n",
       "      <td>2.503437</td>\n",
       "      <td>1.926513</td>\n",
       "    </tr>\n",
       "  </tbody>\n",
       "</table>\n",
       "<p>2 rows × 68 columns</p>\n",
       "</div>"
      ],
      "text/plain": [
       "                 index        Q1        Q2        Q3        Q4        Q5  \\\n",
       "nerdiness                                                                  \n",
       "0          7486.277438  3.621876  3.720529  3.986365  3.431573  3.541604   \n",
       "1          7510.165001  4.256283  4.343569  4.413485  4.088929  4.110628   \n",
       "\n",
       "                 Q6        Q7        Q8        Q9  ...    gender    engnat  \\\n",
       "nerdiness                                          ...                       \n",
       "0          3.270453  3.939835  3.545509  3.633668  ...  1.685612  1.375637   \n",
       "1          4.003624  4.379707  4.148332  4.142978  ...  1.717058  1.322140   \n",
       "\n",
       "                 age      hand  religion  orientation     voted   married  \\\n",
       "nerdiness                                                                   \n",
       "0          24.819322  1.178111  4.239074     1.754816  1.640204  1.193204   \n",
       "1          28.290738  1.190752  3.985467     1.922461  1.627420  1.169227   \n",
       "\n",
       "           familysize       ASD  \n",
       "nerdiness                        \n",
       "0            3.044070  1.953842  \n",
       "1            2.503437  1.926513  \n",
       "\n",
       "[2 rows x 68 columns]"
      ]
     },
     "execution_count": 5,
     "metadata": {},
     "output_type": "execute_result"
    }
   ],
   "source": [
    "df2.groupby('nerdiness').mean()"
   ]
  },
  {
   "cell_type": "code",
   "execution_count": 6,
   "id": "d2899b28",
   "metadata": {},
   "outputs": [
    {
     "data": {
      "text/html": [
       "<div>\n",
       "<style scoped>\n",
       "    .dataframe tbody tr th:only-of-type {\n",
       "        vertical-align: middle;\n",
       "    }\n",
       "\n",
       "    .dataframe tbody tr th {\n",
       "        vertical-align: top;\n",
       "    }\n",
       "\n",
       "    .dataframe thead th {\n",
       "        text-align: right;\n",
       "    }\n",
       "</style>\n",
       "<table border=\"1\" class=\"dataframe\">\n",
       "  <thead>\n",
       "    <tr style=\"text-align: right;\">\n",
       "      <th></th>\n",
       "      <th>Q10</th>\n",
       "      <th>Q11</th>\n",
       "      <th>Q12</th>\n",
       "      <th>Q13</th>\n",
       "      <th>Q14</th>\n",
       "      <th>Q15</th>\n",
       "      <th>Q16</th>\n",
       "      <th>Q17</th>\n",
       "      <th>Q18</th>\n",
       "      <th>Q19</th>\n",
       "      <th>Q20</th>\n",
       "      <th>Q21</th>\n",
       "      <th>Q22</th>\n",
       "      <th>Q23</th>\n",
       "      <th>Q24</th>\n",
       "      <th>Q25</th>\n",
       "      <th>Q26</th>\n",
       "    </tr>\n",
       "    <tr>\n",
       "      <th>nerdiness</th>\n",
       "      <th></th>\n",
       "      <th></th>\n",
       "      <th></th>\n",
       "      <th></th>\n",
       "      <th></th>\n",
       "      <th></th>\n",
       "      <th></th>\n",
       "      <th></th>\n",
       "      <th></th>\n",
       "      <th></th>\n",
       "      <th></th>\n",
       "      <th></th>\n",
       "      <th></th>\n",
       "      <th></th>\n",
       "      <th></th>\n",
       "      <th></th>\n",
       "      <th></th>\n",
       "    </tr>\n",
       "  </thead>\n",
       "  <tbody>\n",
       "    <tr>\n",
       "      <th>0</th>\n",
       "      <td>3.891157</td>\n",
       "      <td>2.742013</td>\n",
       "      <td>3.460753</td>\n",
       "      <td>3.380803</td>\n",
       "      <td>3.423653</td>\n",
       "      <td>2.594789</td>\n",
       "      <td>3.157391</td>\n",
       "      <td>3.676638</td>\n",
       "      <td>3.631484</td>\n",
       "      <td>3.112494</td>\n",
       "      <td>3.391675</td>\n",
       "      <td>2.677946</td>\n",
       "      <td>2.164248</td>\n",
       "      <td>3.529376</td>\n",
       "      <td>4.057888</td>\n",
       "      <td>2.875730</td>\n",
       "      <td>3.880120</td>\n",
       "    </tr>\n",
       "    <tr>\n",
       "      <th>1</th>\n",
       "      <td>4.287408</td>\n",
       "      <td>3.430747</td>\n",
       "      <td>4.071221</td>\n",
       "      <td>3.959913</td>\n",
       "      <td>3.965476</td>\n",
       "      <td>3.365108</td>\n",
       "      <td>3.656525</td>\n",
       "      <td>4.154766</td>\n",
       "      <td>4.122898</td>\n",
       "      <td>3.605797</td>\n",
       "      <td>3.901885</td>\n",
       "      <td>3.202608</td>\n",
       "      <td>2.613628</td>\n",
       "      <td>4.082145</td>\n",
       "      <td>4.489300</td>\n",
       "      <td>3.373928</td>\n",
       "      <td>4.388291</td>\n",
       "    </tr>\n",
       "  </tbody>\n",
       "</table>\n",
       "</div>"
      ],
      "text/plain": [
       "                Q10       Q11       Q12       Q13       Q14       Q15  \\\n",
       "nerdiness                                                               \n",
       "0          3.891157  2.742013  3.460753  3.380803  3.423653  2.594789   \n",
       "1          4.287408  3.430747  4.071221  3.959913  3.965476  3.365108   \n",
       "\n",
       "                Q16       Q17       Q18       Q19       Q20       Q21  \\\n",
       "nerdiness                                                               \n",
       "0          3.157391  3.676638  3.631484  3.112494  3.391675  2.677946   \n",
       "1          3.656525  4.154766  4.122898  3.605797  3.901885  3.202608   \n",
       "\n",
       "                Q22       Q23       Q24       Q25       Q26  \n",
       "nerdiness                                                    \n",
       "0          2.164248  3.529376  4.057888  2.875730  3.880120  \n",
       "1          2.613628  4.082145  4.489300  3.373928  4.388291  "
      ]
     },
     "execution_count": 6,
     "metadata": {},
     "output_type": "execute_result"
    }
   ],
   "source": [
    "df2.groupby('nerdiness')[['Q10',\"Q11\",\"Q12\",\"Q13\",\"Q14\",\"Q15\",\"Q16\",\"Q17\",\"Q18\",\"Q19\",\"Q20\",'Q21', 'Q22', 'Q23', 'Q24', 'Q25', 'Q26']].mean()"
   ]
  },
  {
   "cell_type": "code",
   "execution_count": 7,
   "id": "d50adf8c",
   "metadata": {},
   "outputs": [
    {
     "data": {
      "text/html": [
       "<div>\n",
       "<style scoped>\n",
       "    .dataframe tbody tr th:only-of-type {\n",
       "        vertical-align: middle;\n",
       "    }\n",
       "\n",
       "    .dataframe tbody tr th {\n",
       "        vertical-align: top;\n",
       "    }\n",
       "\n",
       "    .dataframe thead th {\n",
       "        text-align: right;\n",
       "    }\n",
       "</style>\n",
       "<table border=\"1\" class=\"dataframe\">\n",
       "  <thead>\n",
       "    <tr style=\"text-align: right;\">\n",
       "      <th></th>\n",
       "      <th>introelapse</th>\n",
       "      <th>testelapse</th>\n",
       "      <th>surveyelapse</th>\n",
       "      <th>TIPI1</th>\n",
       "      <th>TIPI2</th>\n",
       "      <th>TIPI3</th>\n",
       "      <th>TIPI4</th>\n",
       "      <th>TIPI5</th>\n",
       "      <th>TIPI6</th>\n",
       "      <th>TIPI7</th>\n",
       "      <th>TIPI8</th>\n",
       "      <th>TIPI9</th>\n",
       "      <th>TIPI10</th>\n",
       "    </tr>\n",
       "    <tr>\n",
       "      <th>nerdiness</th>\n",
       "      <th></th>\n",
       "      <th></th>\n",
       "      <th></th>\n",
       "      <th></th>\n",
       "      <th></th>\n",
       "      <th></th>\n",
       "      <th></th>\n",
       "      <th></th>\n",
       "      <th></th>\n",
       "      <th></th>\n",
       "      <th></th>\n",
       "      <th></th>\n",
       "      <th></th>\n",
       "    </tr>\n",
       "  </thead>\n",
       "  <tbody>\n",
       "    <tr>\n",
       "      <th>0</th>\n",
       "      <td>638.987905</td>\n",
       "      <td>335.356876</td>\n",
       "      <td>411.146931</td>\n",
       "      <td>2.756090</td>\n",
       "      <td>3.009636</td>\n",
       "      <td>3.427193</td>\n",
       "      <td>3.218322</td>\n",
       "      <td>3.842351</td>\n",
       "      <td>3.569794</td>\n",
       "      <td>3.489301</td>\n",
       "      <td>2.995780</td>\n",
       "      <td>3.18427</td>\n",
       "      <td>2.287803</td>\n",
       "    </tr>\n",
       "    <tr>\n",
       "      <th>1</th>\n",
       "      <td>870.500301</td>\n",
       "      <td>430.398651</td>\n",
       "      <td>4705.037577</td>\n",
       "      <td>2.516572</td>\n",
       "      <td>3.059937</td>\n",
       "      <td>3.497285</td>\n",
       "      <td>3.320882</td>\n",
       "      <td>3.903074</td>\n",
       "      <td>3.772327</td>\n",
       "      <td>3.561084</td>\n",
       "      <td>3.073735</td>\n",
       "      <td>3.14315</td>\n",
       "      <td>2.089055</td>\n",
       "    </tr>\n",
       "  </tbody>\n",
       "</table>\n",
       "</div>"
      ],
      "text/plain": [
       "           introelapse  testelapse  surveyelapse     TIPI1     TIPI2  \\\n",
       "nerdiness                                                              \n",
       "0           638.987905  335.356876    411.146931  2.756090  3.009636   \n",
       "1           870.500301  430.398651   4705.037577  2.516572  3.059937   \n",
       "\n",
       "              TIPI3     TIPI4     TIPI5     TIPI6     TIPI7     TIPI8  \\\n",
       "nerdiness                                                               \n",
       "0          3.427193  3.218322  3.842351  3.569794  3.489301  2.995780   \n",
       "1          3.497285  3.320882  3.903074  3.772327  3.561084  3.073735   \n",
       "\n",
       "             TIPI9    TIPI10  \n",
       "nerdiness                     \n",
       "0          3.18427  2.287803  \n",
       "1          3.14315  2.089055  "
      ]
     },
     "execution_count": 7,
     "metadata": {},
     "output_type": "execute_result"
    }
   ],
   "source": [
    "df2.groupby('nerdiness')[['country', 'introelapse',\n",
    "       'testelapse', 'surveyelapse', 'TIPI1', 'TIPI2', 'TIPI3', 'TIPI4',\n",
    "       'TIPI5', 'TIPI6', 'TIPI7','TIPI8', 'TIPI9', 'TIPI10']].mean()"
   ]
  },
  {
   "cell_type": "code",
   "execution_count": 8,
   "id": "09ba8840",
   "metadata": {},
   "outputs": [
    {
     "data": {
      "text/html": [
       "<div>\n",
       "<style scoped>\n",
       "    .dataframe tbody tr th:only-of-type {\n",
       "        vertical-align: middle;\n",
       "    }\n",
       "\n",
       "    .dataframe tbody tr th {\n",
       "        vertical-align: top;\n",
       "    }\n",
       "\n",
       "    .dataframe thead th {\n",
       "        text-align: right;\n",
       "    }\n",
       "</style>\n",
       "<table border=\"1\" class=\"dataframe\">\n",
       "  <thead>\n",
       "    <tr style=\"text-align: right;\">\n",
       "      <th></th>\n",
       "      <th>VCL1</th>\n",
       "      <th>VCL2</th>\n",
       "      <th>VCL3</th>\n",
       "      <th>VCL4</th>\n",
       "      <th>VCL5</th>\n",
       "      <th>VCL6</th>\n",
       "      <th>VCL7</th>\n",
       "      <th>VCL8</th>\n",
       "      <th>VCL9</th>\n",
       "      <th>VCL10</th>\n",
       "      <th>VCL11</th>\n",
       "      <th>VCL12</th>\n",
       "      <th>VCL13</th>\n",
       "      <th>VCL14</th>\n",
       "      <th>VCL15</th>\n",
       "      <th>VCL16</th>\n",
       "    </tr>\n",
       "    <tr>\n",
       "      <th>nerdiness</th>\n",
       "      <th></th>\n",
       "      <th></th>\n",
       "      <th></th>\n",
       "      <th></th>\n",
       "      <th></th>\n",
       "      <th></th>\n",
       "      <th></th>\n",
       "      <th></th>\n",
       "      <th></th>\n",
       "      <th></th>\n",
       "      <th></th>\n",
       "      <th></th>\n",
       "      <th></th>\n",
       "      <th></th>\n",
       "      <th></th>\n",
       "      <th></th>\n",
       "    </tr>\n",
       "  </thead>\n",
       "  <tbody>\n",
       "    <tr>\n",
       "      <th>0</th>\n",
       "      <td>0.950874</td>\n",
       "      <td>0.899806</td>\n",
       "      <td>0.468568</td>\n",
       "      <td>0.959683</td>\n",
       "      <td>0.934598</td>\n",
       "      <td>0.090339</td>\n",
       "      <td>0.221144</td>\n",
       "      <td>0.403016</td>\n",
       "      <td>0.062565</td>\n",
       "      <td>0.950127</td>\n",
       "      <td>0.251904</td>\n",
       "      <td>0.179782</td>\n",
       "      <td>0.708974</td>\n",
       "      <td>0.877706</td>\n",
       "      <td>0.951321</td>\n",
       "      <td>0.977005</td>\n",
       "    </tr>\n",
       "    <tr>\n",
       "      <th>1</th>\n",
       "      <td>0.964952</td>\n",
       "      <td>0.939299</td>\n",
       "      <td>0.577984</td>\n",
       "      <td>0.975431</td>\n",
       "      <td>0.957606</td>\n",
       "      <td>0.110562</td>\n",
       "      <td>0.247983</td>\n",
       "      <td>0.463688</td>\n",
       "      <td>0.070938</td>\n",
       "      <td>0.960858</td>\n",
       "      <td>0.302782</td>\n",
       "      <td>0.234855</td>\n",
       "      <td>0.803204</td>\n",
       "      <td>0.929182</td>\n",
       "      <td>0.966759</td>\n",
       "      <td>0.983500</td>\n",
       "    </tr>\n",
       "  </tbody>\n",
       "</table>\n",
       "</div>"
      ],
      "text/plain": [
       "               VCL1      VCL2      VCL3      VCL4      VCL5      VCL6  \\\n",
       "nerdiness                                                               \n",
       "0          0.950874  0.899806  0.468568  0.959683  0.934598  0.090339   \n",
       "1          0.964952  0.939299  0.577984  0.975431  0.957606  0.110562   \n",
       "\n",
       "               VCL7      VCL8      VCL9     VCL10     VCL11     VCL12  \\\n",
       "nerdiness                                                               \n",
       "0          0.221144  0.403016  0.062565  0.950127  0.251904  0.179782   \n",
       "1          0.247983  0.463688  0.070938  0.960858  0.302782  0.234855   \n",
       "\n",
       "              VCL13     VCL14     VCL15     VCL16  \n",
       "nerdiness                                          \n",
       "0          0.708974  0.877706  0.951321  0.977005  \n",
       "1          0.803204  0.929182  0.966759  0.983500  "
      ]
     },
     "execution_count": 8,
     "metadata": {},
     "output_type": "execute_result"
    }
   ],
   "source": [
    "df2.groupby('nerdiness')[['VCL1', 'VCL2',\n",
    "       'VCL3', 'VCL4', 'VCL5', 'VCL6', 'VCL7', 'VCL8', 'VCL9', 'VCL10',\n",
    "       'VCL11', 'VCL12', 'VCL13', 'VCL14', 'VCL15', 'VCL16']].mean()"
   ]
  },
  {
   "cell_type": "code",
   "execution_count": 9,
   "id": "f693e138",
   "metadata": {},
   "outputs": [
    {
     "data": {
      "text/html": [
       "<div>\n",
       "<style scoped>\n",
       "    .dataframe tbody tr th:only-of-type {\n",
       "        vertical-align: middle;\n",
       "    }\n",
       "\n",
       "    .dataframe tbody tr th {\n",
       "        vertical-align: top;\n",
       "    }\n",
       "\n",
       "    .dataframe thead th {\n",
       "        text-align: right;\n",
       "    }\n",
       "</style>\n",
       "<table border=\"1\" class=\"dataframe\">\n",
       "  <thead>\n",
       "    <tr style=\"text-align: right;\">\n",
       "      <th></th>\n",
       "      <th>education</th>\n",
       "      <th>urban</th>\n",
       "      <th>gender</th>\n",
       "      <th>engnat</th>\n",
       "      <th>age</th>\n",
       "      <th>hand</th>\n",
       "      <th>religion</th>\n",
       "      <th>orientation</th>\n",
       "      <th>voted</th>\n",
       "      <th>married</th>\n",
       "      <th>familysize</th>\n",
       "      <th>ASD</th>\n",
       "    </tr>\n",
       "    <tr>\n",
       "      <th>nerdiness</th>\n",
       "      <th></th>\n",
       "      <th></th>\n",
       "      <th></th>\n",
       "      <th></th>\n",
       "      <th></th>\n",
       "      <th></th>\n",
       "      <th></th>\n",
       "      <th></th>\n",
       "      <th></th>\n",
       "      <th></th>\n",
       "      <th></th>\n",
       "      <th></th>\n",
       "    </tr>\n",
       "  </thead>\n",
       "  <tbody>\n",
       "    <tr>\n",
       "      <th>0</th>\n",
       "      <td>2.343698</td>\n",
       "      <td>2.190384</td>\n",
       "      <td>1.685612</td>\n",
       "      <td>1.375637</td>\n",
       "      <td>24.819322</td>\n",
       "      <td>1.178111</td>\n",
       "      <td>4.239074</td>\n",
       "      <td>1.754816</td>\n",
       "      <td>1.640204</td>\n",
       "      <td>1.193204</td>\n",
       "      <td>3.044070</td>\n",
       "      <td>1.953842</td>\n",
       "    </tr>\n",
       "    <tr>\n",
       "      <th>1</th>\n",
       "      <td>2.290448</td>\n",
       "      <td>2.142479</td>\n",
       "      <td>1.717058</td>\n",
       "      <td>1.322140</td>\n",
       "      <td>28.290738</td>\n",
       "      <td>1.190752</td>\n",
       "      <td>3.985467</td>\n",
       "      <td>1.922461</td>\n",
       "      <td>1.627420</td>\n",
       "      <td>1.169227</td>\n",
       "      <td>2.503437</td>\n",
       "      <td>1.926513</td>\n",
       "    </tr>\n",
       "  </tbody>\n",
       "</table>\n",
       "</div>"
      ],
      "text/plain": [
       "           education     urban    gender    engnat        age      hand  \\\n",
       "nerdiness                                                                 \n",
       "0           2.343698  2.190384  1.685612  1.375637  24.819322  1.178111   \n",
       "1           2.290448  2.142479  1.717058  1.322140  28.290738  1.190752   \n",
       "\n",
       "           religion  orientation     voted   married  familysize       ASD  \n",
       "nerdiness                                                                   \n",
       "0          4.239074     1.754816  1.640204  1.193204    3.044070  1.953842  \n",
       "1          3.985467     1.922461  1.627420  1.169227    2.503437  1.926513  "
      ]
     },
     "execution_count": 9,
     "metadata": {},
     "output_type": "execute_result"
    }
   ],
   "source": [
    "df2.groupby('nerdiness')[['education',\n",
    "       'urban', 'gender', 'engnat', 'age', 'hand', 'religion', 'orientation',\n",
    "       'voted', 'married', 'familysize', 'ASD']].mean()"
   ]
  },
  {
   "cell_type": "markdown",
   "id": "44c71207",
   "metadata": {},
   "source": [
    "# drop"
   ]
  },
  {
   "cell_type": "code",
   "execution_count": 10,
   "id": "7d398d42",
   "metadata": {},
   "outputs": [],
   "source": [
    " # 뭘 버리지 - index, country, voted, engnat, hand, education, married, urban"
   ]
  },
  {
   "cell_type": "code",
   "execution_count": 11,
   "id": "e44ab25b",
   "metadata": {},
   "outputs": [],
   "source": [
    "df1 = df1.drop([\"index\",\"country\",\"voted\",\"engnat\",\"hand\",\"education\",\"married\",\"urban\",\"familysize\", 'TIPI1', 'TIPI2', 'TIPI3', 'TIPI4',\n",
    "       'TIPI5', 'TIPI6', 'TIPI7','TIPI8', 'TIPI9', 'TIPI10','VCL1', 'VCL2','VCL4', 'VCL5', 'VCL6', 'VCL7','VCL15', 'VCL16','education',\n",
    "       'urban', 'gender', 'engnat','hand', 'religion', 'orientation',\n",
    "       'voted', 'married','ASD'], axis=1)\n",
    "df2 = df2.drop([\"index\",\"country\",\"voted\",\"engnat\",\"hand\",\"education\",\"married\",\"urban\",\"familysize\", 'TIPI1', 'TIPI2', 'TIPI3', 'TIPI4',\n",
    "       'TIPI5', 'TIPI6', 'TIPI7','TIPI8', 'TIPI9', 'TIPI10','VCL1', 'VCL2','VCL4', 'VCL5', 'VCL6', 'VCL7','VCL15', 'VCL16','education',\n",
    "       'urban', 'gender', 'engnat','hand', 'religion', 'orientation',\n",
    "       'voted', 'married','ASD'], axis=1)"
   ]
  },
  {
   "cell_type": "markdown",
   "id": "32bb15e9",
   "metadata": {},
   "source": [
    "# 결측치 대체"
   ]
  },
  {
   "cell_type": "code",
   "execution_count": 12,
   "id": "2d308f05",
   "metadata": {},
   "outputs": [],
   "source": [
    "# 평균값으로 정리? - Q1 ~ Q26 *******\n",
    "# 0으로 처리?\n",
    "# 최빈값으로 처리?"
   ]
  },
  {
   "cell_type": "code",
   "execution_count": 13,
   "id": "3c43e4d9",
   "metadata": {},
   "outputs": [],
   "source": [
    "df1[\"Q1\"].fillna('3.978604', inplace=True)\n",
    "df2[\"Q1\"].fillna('3.972859', inplace=True)\n",
    "\n",
    "df1[\"Q2\"].fillna('4.073389', inplace=True)\n",
    "df2[\"Q2\"].fillna('4.065702', inplace=True)\n",
    "\n",
    "df1[\"Q3\"].fillna('4.23467', inplace=True)\n",
    "df1[\"Q3\"].fillna('4.222809', inplace=True)\n",
    "\n",
    "df1[\"Q4\"].fillna('3.807258', inplace=True)\n",
    "df2[\"Q4\"].fillna('3.795499', inplace=True)\n",
    "\n",
    "df1[\"Q5\"].fillna('3.873452', inplace=True)\n",
    "df2[\"Q5\"].fillna('3.856503', inplace=True)\n",
    "\n",
    "df1[\"Q6\"].fillna('3.699122', inplace=True)\n",
    "df2[\"Q6\"].fillna('3.676364', inplace=True)\n",
    "\n",
    "df1[\"Q7\"].fillna('4.192722', inplace=True)\n",
    "df2[\"Q7\"].fillna('4.183262', inplace=True)\n",
    "\n",
    "df1[\"Q8\"].fillna('3.888043', inplace=True)\n",
    "df2[\"Q8\"].fillna('3.879013', inplace=True)\n",
    "\n",
    "df1[\"Q9\"].fillna('3.939572', inplace=True)\n",
    "df2[\"Q9\"].fillna('3.915418', inplace=True)\n",
    "\n",
    "df1[\"Q10\"].fillna('4.119181', inplace=True)\n",
    "df2[\"Q10\"].fillna('4.110598', inplace=True)\n",
    "\n",
    "df1[\"Q11\"].fillna('3.142699', inplace=True)\n",
    "df2[\"Q11\"].fillna('3.123419', inplace=True)\n",
    "\n",
    "df1[\"Q12\"].fillna('3.802396', inplace=True)\n",
    "df2[\"Q12\"].fillna('3.798835', inplace=True)\n",
    "\n",
    "df1[\"Q13\"].fillna('3.722056', inplace=True)\n",
    "df2[\"Q13\"].fillna('3.701404', inplace=True)\n",
    "\n",
    "df1[\"Q14\"].fillna('3.742122', inplace=True)\n",
    "df2[\"Q14\"].fillna('3.723603', inplace=True)\n",
    "\n",
    "df1[\"Q15\"].fillna('3.034404', inplace=True)\n",
    "df2[\"Q15\"].fillna('3.02113', inplace=True)\n",
    "\n",
    "df1[\"Q16\"].fillna('3.453474', inplace=True)\n",
    "df2[\"Q16\"].fillna('3.433621', inplace=True)\n",
    "\n",
    "df1[\"Q17\"].fillna('3.946258', inplace=True)\n",
    "df2[\"Q17\"].fillna('3.941121', inplace=True)\n",
    "\n",
    "df1[\"Q18\"].fillna('3.892706', inplace=True)\n",
    "df2[\"Q18\"].fillna('3.903461', inplace=True)\n",
    "\n",
    "df1[\"Q19\"].fillna('3.399434', inplace=True)\n",
    "df2[\"Q19\"].fillna('3.385763', inplace=True)\n",
    "\n",
    "df1[\"Q20\"].fillna('3.657685', inplace=True)\n",
    "df2[\"Q20\"].fillna('3.674022', inplace=True)\n",
    "\n",
    "df1[\"Q21\"].fillna('2.966854', inplace=True)\n",
    "df2[\"Q21\"].fillna('2.968384', inplace=True)\n",
    "\n",
    "df1[\"Q22\"].fillna('2.418519', inplace=True)\n",
    "df2[\"Q22\"].fillna('2.412846', inplace=True)\n",
    "\n",
    "df1[\"Q23\"].fillna('3.84487', inplace=True)\n",
    "df2[\"Q23\"].fillna('3.835452', inplace=True)\n",
    "\n",
    "df1[\"Q24\"].fillna('4.303988', inplace=True)\n",
    "df2[\"Q24\"].fillna('4.29674', inplace=True)\n",
    "\n",
    "df1[\"Q25\"].fillna('3.180653', inplace=True)\n",
    "df2[\"Q25\"].fillna('3.151444', inplace=True)\n",
    "\n",
    "df1[\"Q26\"].fillna('4.171429', inplace=True)\n",
    "df2[\"Q26\"].fillna('4.161465', inplace=True)"
   ]
  },
  {
   "cell_type": "code",
   "execution_count": 14,
   "id": "866495c0",
   "metadata": {},
   "outputs": [],
   "source": [
    "df1[\"introelapse\"].fillna('876.7676859', inplace=True)\n",
    "df2[\"introelapse\"].fillna('767.137733', inplace=True)\n",
    "\n",
    "df1[\"testelapse\"].fillna('395.624929', inplace=True)\n",
    "df2[\"testelapse\"].fillna('387.965667', inplace=True)\n",
    "\n",
    "df1[\"surveyelapse\"].fillna('2518.593479', inplace=True)\n",
    "df2[\"surveyelapse\"].fillna('2787.95853333333', inplace=True)"
   ]
  },
  {
   "cell_type": "code",
   "execution_count": 15,
   "id": "9d4840c1",
   "metadata": {},
   "outputs": [],
   "source": [
    "df1[\"TIPI1\"].fillna('2.618475', inplace=True)\n",
    "df2[\"TIPI1\"].fillna('2.623135', inplace=True)\n",
    "\n",
    "df1[\"TIPI2\"].fillna('3.015539', inplace=True)\n",
    "df2[\"TIPI2\"].fillna('3.037565', inplace=True)\n",
    "\n",
    "df1[\"TIPI3\"].fillna('3.44946', inplace=True)\n",
    "df2[\"TIPI3\"].fillna('3.466122', inplace=True)\n",
    "\n",
    "df1[\"TIPI4\"].fillna('3.265957', inplace=True)\n",
    "df2[\"TIPI4\"].fillna('3.275308', inplace=True)\n",
    "\n",
    "df1[\"TIPI5\"].fillna('3.880664', inplace=True)\n",
    "df2[\"TIPI5\"].fillna('3.876088', inplace=True)\n",
    "\n",
    "df1[\"TIPI6\"].fillna('3.682312', inplace=True)\n",
    "df2[\"TIPI6\"].fillna('3.682287', inplace=True)\n",
    "\n",
    "df1[\"TIPI7\"].fillna('3.537686', inplace=True)\n",
    "df2[\"TIPI7\"].fillna('3.529191', inplace=True)\n",
    "\n",
    "df1[\"TIPI8\"].fillna('3.047162', inplace=True)\n",
    "df2[\"TIPI8\"].fillna('3.039103', inplace=True)\n",
    "\n",
    "df1[\"TIPI9\"].fillna('3.165591', inplace=True)\n",
    "df2[\"TIPI9\"].fillna('3.161422', inplace=True)\n",
    "\n",
    "df1[\"TIPI10\"].fillna('2.159967', inplace=True)\n",
    "df2[\"TIPI10\"].fillna('2.177413', inplace=True)"
   ]
  },
  {
   "cell_type": "code",
   "execution_count": 16,
   "id": "648ec356",
   "metadata": {},
   "outputs": [],
   "source": [
    "df1[\"VCL1\"].fillna('0.963387', inplace=True)\n",
    "df2[\"VCL1\"].fillna('0.958667', inplace=True)\n",
    "\n",
    "df1[\"VCL2\"].fillna('0.926464', inplace=True)\n",
    "df2[\"VCL2\"].fillna('0.921667', inplace=True)\n",
    "\n",
    "df1[\"VCL3\"].fillna('0.531959', inplace=True)\n",
    "df2[\"VCL3\"].fillna('0.529133', inplace=True)\n",
    "\n",
    "df1[\"VCL4\"].fillna('0.970665', inplace=True)\n",
    "df2[\"VCL4\"].fillna('0.9684', inplace=True)\n",
    "\n",
    "df1[\"VCL5\"].fillna('0.95075', inplace=True)\n",
    "df2[\"VCL5\"].fillna('0.947333', inplace=True)\n",
    "\n",
    "df1[\"VCL6\"].fillna('0.105184', inplace=True)\n",
    "df2[\"VCL6\"].fillna('0.101533', inplace=True)\n",
    "\n",
    "df1[\"VCL7\"].fillna('0.239084', inplace=True)\n",
    "df2[\"VCL7\"].fillna('0.236', inplace=True)\n",
    "\n",
    "df1[\"VCL8\"].fillna('0.443614', inplace=True)\n",
    "df2[\"VCL8\"].fillna('0.4366', inplace=True)\n",
    "\n",
    "df1[\"VCL9\"].fillna('0.069954', inplace=True)\n",
    "df2[\"VCL9\"].fillna('0.0672', inplace=True)\n",
    "\n",
    "df1[\"VCL10\"].fillna('0.958394', inplace=True)\n",
    "df2[\"VCL10\"].fillna('0.956067', inplace=True)\n",
    "\n",
    "df1[\"VCL11\"].fillna('0.282664', inplace=True)\n",
    "df2[\"VCL11\"].fillna('0.280067', inplace=True)\n",
    "\n",
    "df1[\"VCL12\"].fillna('0.214374', inplace=True)\n",
    "df2[\"VCL12\"].fillna('0.210267', inplace=True)\n",
    "\n",
    "df1[\"VCL13\"].fillna('0.763822', inplace=True)\n",
    "df2[\"VCL13\"].fillna('0.761133', inplace=True)\n",
    "\n",
    "df1[\"VCL14\"].fillna('0.90734', inplace=True)\n",
    "df2[\"VCL14\"].fillna('0.9062', inplace=True)\n",
    "\n",
    "df1[\"VCL15\"].fillna('0.961413', inplace=True)\n",
    "df2[\"VCL15\"].fillna('0.959867', inplace=True)\n",
    "\n",
    "df1[\"VCL16\"].fillna('0.982427', inplace=True)\n",
    "df2[\"VCL16\"].fillna('0.9806', inplace=True)"
   ]
  },
  {
   "cell_type": "code",
   "execution_count": 17,
   "id": "f4b1b067",
   "metadata": {},
   "outputs": [],
   "source": [
    "df1[\"gender\"].fillna(\"1.709889\", inplace=True)\n",
    "df2[\"gender\"].fillna(\"2.163867\", inplace=True)\n",
    "\n",
    "df1[\"age\"].fillna('25.404575', inplace=True)\n",
    "df2[\"age\"].fillna('26.740867', inplace=True)\n",
    "\n",
    "df1[\"religion\"].fillna('4.12391', inplace=True)\n",
    "df2[\"religion\"].fillna('4.09834', inplace=True)\n",
    "\n",
    "df1[\"orientation\"].fillna('1.848046', inplace=True)\n",
    "df2[\"orientation\"].fillna('1.847956', inplace=True)\n",
    "\n",
    "df1[\"ASD\"].fillna('1.937129', inplace=True)\n",
    "df2[\"ASD\"].fillna('1.938703', inplace=True)"
   ]
  },
  {
   "cell_type": "markdown",
   "id": "0c4a60f8",
   "metadata": {},
   "source": [
    "# 이상치 대체"
   ]
  },
  {
   "cell_type": "code",
   "execution_count": 18,
   "id": "33b7a4f4",
   "metadata": {},
   "outputs": [],
   "source": [
    "# introelapse testelapse surveyelapse Age familysize  -- 이상치는 최빈값으로 대체"
   ]
  },
  {
   "cell_type": "code",
   "execution_count": 19,
   "id": "20a98616",
   "metadata": {},
   "outputs": [
    {
     "data": {
      "text/plain": [
       "34.0"
      ]
     },
     "execution_count": 19,
     "metadata": {},
     "output_type": "execute_result"
    }
   ],
   "source": [
    "Q3, Q1 = np.percentile(df1[\"introelapse\"], [75 ,25])\n",
    "IQR1 = Q3 - Q1\n",
    "IQR1"
   ]
  },
  {
   "cell_type": "code",
   "execution_count": 20,
   "id": "09ff1494",
   "metadata": {
    "scrolled": true
   },
   "outputs": [
    {
     "name": "stderr",
     "output_type": "stream",
     "text": [
      "/Library/Frameworks/Python.framework/Versions/3.7/lib/python3.7/site-packages/ipykernel_launcher.py:1: SettingWithCopyWarning: \n",
      "A value is trying to be set on a copy of a slice from a DataFrame\n",
      "\n",
      "See the caveats in the documentation: https://pandas.pydata.org/pandas-docs/stable/user_guide/indexing.html#returning-a-view-versus-a-copy\n",
      "  \"\"\"Entry point for launching an IPython kernel.\n"
     ]
    }
   ],
   "source": [
    "df1[\"introelapse\"][(Q1-1.5*IQR1 > df1[\"introelapse\"])|(Q3+1.5*IQR1 < df1[\"introelapse\"])] = 2"
   ]
  },
  {
   "cell_type": "code",
   "execution_count": 21,
   "id": "08ea629e",
   "metadata": {
    "scrolled": true
   },
   "outputs": [
    {
     "data": {
      "text/plain": [
       "0         9\n",
       "1        18\n",
       "2         4\n",
       "3         2\n",
       "4        24\n",
       "         ..\n",
       "35447    10\n",
       "35448     2\n",
       "35449    27\n",
       "35450     3\n",
       "35451     2\n",
       "Name: introelapse, Length: 35452, dtype: int64"
      ]
     },
     "execution_count": 21,
     "metadata": {},
     "output_type": "execute_result"
    }
   ],
   "source": [
    "df1[\"introelapse\"]"
   ]
  },
  {
   "cell_type": "code",
   "execution_count": 22,
   "id": "5deddd8f",
   "metadata": {},
   "outputs": [
    {
     "data": {
      "text/plain": [
       "32.0"
      ]
     },
     "execution_count": 22,
     "metadata": {},
     "output_type": "execute_result"
    }
   ],
   "source": [
    "Q3, Q1 = np.percentile(df2[\"introelapse\"], [75 ,25])\n",
    "IQR2 = Q3 - Q1\n",
    "IQR2"
   ]
  },
  {
   "cell_type": "code",
   "execution_count": 23,
   "id": "53c61fd3",
   "metadata": {},
   "outputs": [
    {
     "name": "stderr",
     "output_type": "stream",
     "text": [
      "/Library/Frameworks/Python.framework/Versions/3.7/lib/python3.7/site-packages/ipykernel_launcher.py:1: SettingWithCopyWarning: \n",
      "A value is trying to be set on a copy of a slice from a DataFrame\n",
      "\n",
      "See the caveats in the documentation: https://pandas.pydata.org/pandas-docs/stable/user_guide/indexing.html#returning-a-view-versus-a-copy\n",
      "  \"\"\"Entry point for launching an IPython kernel.\n"
     ]
    }
   ],
   "source": [
    "df2[\"introelapse\"][(Q1-1.5*IQR2 > df2[\"introelapse\"])|(Q3+1.5*IQR2 < df2[\"introelapse\"])] = 2"
   ]
  },
  {
   "cell_type": "code",
   "execution_count": 24,
   "id": "aa9e800d",
   "metadata": {
    "scrolled": false
   },
   "outputs": [
    {
     "data": {
      "text/plain": [
       "0         3\n",
       "1         5\n",
       "2         9\n",
       "3         2\n",
       "4         3\n",
       "         ..\n",
       "14995    12\n",
       "14996    31\n",
       "14997    17\n",
       "14998    14\n",
       "14999     8\n",
       "Name: introelapse, Length: 15000, dtype: int64"
      ]
     },
     "execution_count": 24,
     "metadata": {},
     "output_type": "execute_result"
    }
   ],
   "source": [
    "df2[\"introelapse\"]"
   ]
  },
  {
   "cell_type": "code",
   "execution_count": 25,
   "id": "aec28329",
   "metadata": {},
   "outputs": [
    {
     "data": {
      "text/plain": [
       "58.0"
      ]
     },
     "execution_count": 25,
     "metadata": {},
     "output_type": "execute_result"
    }
   ],
   "source": [
    "Q3, Q1 = np.percentile(df1[\"testelapse\"], [75 ,25])\n",
    "IQR1 = Q3 - Q1\n",
    "IQR1"
   ]
  },
  {
   "cell_type": "code",
   "execution_count": 26,
   "id": "5fe11247",
   "metadata": {},
   "outputs": [
    {
     "name": "stderr",
     "output_type": "stream",
     "text": [
      "/Library/Frameworks/Python.framework/Versions/3.7/lib/python3.7/site-packages/ipykernel_launcher.py:1: SettingWithCopyWarning: \n",
      "A value is trying to be set on a copy of a slice from a DataFrame\n",
      "\n",
      "See the caveats in the documentation: https://pandas.pydata.org/pandas-docs/stable/user_guide/indexing.html#returning-a-view-versus-a-copy\n",
      "  \"\"\"Entry point for launching an IPython kernel.\n"
     ]
    }
   ],
   "source": [
    "df1[\"testelapse\"][(Q1-1.5*IQR1 > df1[\"testelapse\"])|(Q3+1.5*IQR1 < df1[\"testelapse\"])] = 94"
   ]
  },
  {
   "cell_type": "code",
   "execution_count": 27,
   "id": "3cea275e",
   "metadata": {},
   "outputs": [
    {
     "data": {
      "text/plain": [
       "0        114\n",
       "1        107\n",
       "2         87\n",
       "3        155\n",
       "4        163\n",
       "        ... \n",
       "35447    200\n",
       "35448    136\n",
       "35449    121\n",
       "35450     58\n",
       "35451     94\n",
       "Name: testelapse, Length: 35452, dtype: int64"
      ]
     },
     "execution_count": 27,
     "metadata": {},
     "output_type": "execute_result"
    }
   ],
   "source": [
    "df1[\"testelapse\"]"
   ]
  },
  {
   "cell_type": "code",
   "execution_count": 28,
   "id": "28a944cf",
   "metadata": {},
   "outputs": [
    {
     "data": {
      "text/plain": [
       "58.0"
      ]
     },
     "execution_count": 28,
     "metadata": {},
     "output_type": "execute_result"
    }
   ],
   "source": [
    "Q3, Q1 = np.percentile(df2[\"testelapse\"], [75 ,25])\n",
    "IQR2 = Q3 - Q1\n",
    "IQR2"
   ]
  },
  {
   "cell_type": "code",
   "execution_count": 29,
   "id": "d3dcfeab",
   "metadata": {},
   "outputs": [
    {
     "name": "stderr",
     "output_type": "stream",
     "text": [
      "/Library/Frameworks/Python.framework/Versions/3.7/lib/python3.7/site-packages/ipykernel_launcher.py:1: SettingWithCopyWarning: \n",
      "A value is trying to be set on a copy of a slice from a DataFrame\n",
      "\n",
      "See the caveats in the documentation: https://pandas.pydata.org/pandas-docs/stable/user_guide/indexing.html#returning-a-view-versus-a-copy\n",
      "  \"\"\"Entry point for launching an IPython kernel.\n"
     ]
    }
   ],
   "source": [
    "df2[\"testelapse\"][(Q1-1.5*IQR2 > df2[\"testelapse\"])|(Q3+1.5*IQR2 < df2[\"testelapse\"])] = 94"
   ]
  },
  {
   "cell_type": "code",
   "execution_count": 30,
   "id": "662631ae",
   "metadata": {
    "scrolled": true
   },
   "outputs": [
    {
     "data": {
      "text/plain": [
       "0         94\n",
       "1         85\n",
       "2        108\n",
       "3        121\n",
       "4         94\n",
       "        ... \n",
       "14995    103\n",
       "14996    106\n",
       "14997    103\n",
       "14998     68\n",
       "14999    182\n",
       "Name: testelapse, Length: 15000, dtype: int64"
      ]
     },
     "execution_count": 30,
     "metadata": {},
     "output_type": "execute_result"
    }
   ],
   "source": [
    "df2[\"testelapse\"]"
   ]
  },
  {
   "cell_type": "code",
   "execution_count": 31,
   "id": "478622f3",
   "metadata": {},
   "outputs": [
    {
     "data": {
      "text/plain": [
       "89.25"
      ]
     },
     "execution_count": 31,
     "metadata": {},
     "output_type": "execute_result"
    }
   ],
   "source": [
    "Q3, Q1 = np.percentile(df1[\"surveyelapse\"], [75 ,25])\n",
    "IQR1 = Q3 - Q1\n",
    "IQR1"
   ]
  },
  {
   "cell_type": "code",
   "execution_count": 32,
   "id": "9870cc26",
   "metadata": {},
   "outputs": [
    {
     "name": "stderr",
     "output_type": "stream",
     "text": [
      "/Library/Frameworks/Python.framework/Versions/3.7/lib/python3.7/site-packages/ipykernel_launcher.py:1: SettingWithCopyWarning: \n",
      "A value is trying to be set on a copy of a slice from a DataFrame\n",
      "\n",
      "See the caveats in the documentation: https://pandas.pydata.org/pandas-docs/stable/user_guide/indexing.html#returning-a-view-versus-a-copy\n",
      "  \"\"\"Entry point for launching an IPython kernel.\n"
     ]
    }
   ],
   "source": [
    "df1[\"surveyelapse\"][(Q1-1.5*IQR1 > df1[\"surveyelapse\"])|(Q3+1.5*IQR1 < df1[\"surveyelapse\"])] = 145"
   ]
  },
  {
   "cell_type": "code",
   "execution_count": 33,
   "id": "1ed645d8",
   "metadata": {},
   "outputs": [
    {
     "data": {
      "text/plain": [
       "0        243\n",
       "1        206\n",
       "2        191\n",
       "3        258\n",
       "4        289\n",
       "        ... \n",
       "35447    254\n",
       "35448    155\n",
       "35449    191\n",
       "35450    105\n",
       "35451    178\n",
       "Name: surveyelapse, Length: 35452, dtype: int64"
      ]
     },
     "execution_count": 33,
     "metadata": {},
     "output_type": "execute_result"
    }
   ],
   "source": [
    "df1[\"surveyelapse\"]"
   ]
  },
  {
   "cell_type": "code",
   "execution_count": 34,
   "id": "bb46e210",
   "metadata": {},
   "outputs": [
    {
     "data": {
      "text/plain": [
       "91.0"
      ]
     },
     "execution_count": 34,
     "metadata": {},
     "output_type": "execute_result"
    }
   ],
   "source": [
    "Q3, Q1 = np.percentile(df2[\"surveyelapse\"], [75 ,25])\n",
    "IQR2 = Q3 - Q1\n",
    "IQR2"
   ]
  },
  {
   "cell_type": "code",
   "execution_count": 35,
   "id": "347f9b34",
   "metadata": {},
   "outputs": [
    {
     "name": "stderr",
     "output_type": "stream",
     "text": [
      "/Library/Frameworks/Python.framework/Versions/3.7/lib/python3.7/site-packages/ipykernel_launcher.py:1: SettingWithCopyWarning: \n",
      "A value is trying to be set on a copy of a slice from a DataFrame\n",
      "\n",
      "See the caveats in the documentation: https://pandas.pydata.org/pandas-docs/stable/user_guide/indexing.html#returning-a-view-versus-a-copy\n",
      "  \"\"\"Entry point for launching an IPython kernel.\n"
     ]
    }
   ],
   "source": [
    "df2[\"surveyelapse\"][(Q1-1.5*IQR2 > df2[\"surveyelapse\"])|(Q3+1.5*IQR2 < df2[\"surveyelapse\"])] = 145"
   ]
  },
  {
   "cell_type": "code",
   "execution_count": 36,
   "id": "6ffad5df",
   "metadata": {},
   "outputs": [
    {
     "data": {
      "text/plain": [
       "0          6\n",
       "1        120\n",
       "2        100\n",
       "3        139\n",
       "4        216\n",
       "        ... \n",
       "14995    161\n",
       "14996    179\n",
       "14997    168\n",
       "14998    109\n",
       "14999    348\n",
       "Name: surveyelapse, Length: 15000, dtype: int64"
      ]
     },
     "execution_count": 36,
     "metadata": {},
     "output_type": "execute_result"
    }
   ],
   "source": [
    "df2[\"surveyelapse\"]"
   ]
  },
  {
   "cell_type": "code",
   "execution_count": 37,
   "id": "0d777479",
   "metadata": {},
   "outputs": [
    {
     "data": {
      "text/plain": [
       "10.0"
      ]
     },
     "execution_count": 37,
     "metadata": {},
     "output_type": "execute_result"
    }
   ],
   "source": [
    "Q3, Q1 = np.percentile(df1[\"age\"], [75 ,25])\n",
    "IQR1 = Q3 - Q1\n",
    "IQR1"
   ]
  },
  {
   "cell_type": "code",
   "execution_count": 38,
   "id": "72b8cb49",
   "metadata": {},
   "outputs": [],
   "source": [
    "error = df1[\"age\"][(Q1-1.5*IQR1 > df1[\"age\"])|(Q3+1.5*IQR1 < df1[\"age\"])]\n",
    "for i in error :\n",
    "    if i > 100 :\n",
    "        i = 18"
   ]
  },
  {
   "cell_type": "code",
   "execution_count": 39,
   "id": "c46b7160",
   "metadata": {
    "scrolled": true
   },
   "outputs": [
    {
     "data": {
      "text/plain": [
       "0        19\n",
       "1        33\n",
       "2        13\n",
       "3        28\n",
       "4        15\n",
       "         ..\n",
       "35447    16\n",
       "35448    16\n",
       "35449    31\n",
       "35450    19\n",
       "35451    14\n",
       "Name: age, Length: 35452, dtype: int64"
      ]
     },
     "execution_count": 39,
     "metadata": {},
     "output_type": "execute_result"
    }
   ],
   "source": [
    "df1[\"age\"]"
   ]
  },
  {
   "cell_type": "code",
   "execution_count": 40,
   "id": "5f356fdb",
   "metadata": {},
   "outputs": [
    {
     "data": {
      "text/plain": [
       "10.0"
      ]
     },
     "execution_count": 40,
     "metadata": {},
     "output_type": "execute_result"
    }
   ],
   "source": [
    "Q3, Q1 = np.percentile(df2[\"age\"], [75 ,25])\n",
    "IQR2 = Q3 - Q1\n",
    "IQR2"
   ]
  },
  {
   "cell_type": "code",
   "execution_count": 41,
   "id": "38de9914",
   "metadata": {},
   "outputs": [],
   "source": [
    "error2 = df2[\"age\"][(Q1-1.5*IQR2 > df2[\"age\"])|(Q3+1.5*IQR2 < df2[\"age\"])]\n",
    "for i in error2 :\n",
    "    if i > 100 :\n",
    "        i = 18"
   ]
  },
  {
   "cell_type": "code",
   "execution_count": 42,
   "id": "9378fdaa",
   "metadata": {},
   "outputs": [
    {
     "data": {
      "text/plain": [
       "0        20\n",
       "1        49\n",
       "2        43\n",
       "3        17\n",
       "4        18\n",
       "         ..\n",
       "14995    17\n",
       "14996    45\n",
       "14997    20\n",
       "14998    29\n",
       "14999    21\n",
       "Name: age, Length: 15000, dtype: int64"
      ]
     },
     "execution_count": 42,
     "metadata": {},
     "output_type": "execute_result"
    }
   ],
   "source": [
    "df2[\"age\"]"
   ]
  },
  {
   "cell_type": "markdown",
   "id": "4dd23f03",
   "metadata": {},
   "source": [
    "# 최대 최소 정규화"
   ]
  },
  {
   "cell_type": "code",
   "execution_count": 43,
   "id": "3209b674",
   "metadata": {},
   "outputs": [],
   "source": [
    "# introelapse, surveyelapse, testelapse, age"
   ]
  },
  {
   "cell_type": "code",
   "execution_count": null,
   "id": "c26ceb73",
   "metadata": {},
   "outputs": [],
   "source": [
    "# normalization_df1 = (df1[\"introelapse\"] - df1[\"introelapse\"].min()) / (df1[\"introelapse\"].max() - df1[\"introelapse\"].min())\n",
    "df1[\"introelapse\"]= normalization_df1\n",
    "df1[\"introelapse\"]\n",
    "\n",
    "normalization_df2 = (df2[\"introelapse\"] - df2[\"introelapse\"].min()) / (df2[\"introelapse\"].max() - df2[\"introelapse\"].min())\n",
    "df2[\"introelapse\"]= normalization_df2\n",
    "df2[\"introelapse\"]\n",
    "\n",
    "normalization_df1 = (df1[\"testelapse\"] - df1[\"testelapse\"].min()) / (df1[\"testelapse\"].max() - df1[\"testelapse\"].min())\n",
    "df1[\"testelapse\"]= normalization_df1\n",
    "df1[\"testelapse\"]\n",
    "\n",
    "normalization_df2 = (df2[\"testelapse\"] - df2[\"testelapse\"].min()) / (df2[\"testelapse\"].max() - df2[\"testelapse\"].min())\n",
    "df2[\"testelapse\"]= normalization_df2\n",
    "df2[\"testelapse\"]\n",
    "\n",
    "normalization_df1 = (df1[\"surveyelapse\"] - df1[\"surveyelapse\"].min()) / (df1[\"surveyelapse\"].max() - df1[\"surveyelapse\"].min())\n",
    "df1[\"surveyelapse\"]= normalization_df1\n",
    "df1[\"surveyelapse\"]\n",
    "\n",
    "normalization_df2 = (df2[\"surveyelapse\"] - df2[\"surveyelapse\"].min()) / (df2[\"surveyelapse\"].max() - df2[\"surveyelapse\"].min())\n",
    "df2[\"surveyelapse\"]= normalization_df2\n",
    "df2[\"surveyelapse\"]\n",
    "\n",
    "normalization_df1 = (df1[\"age\"] - df1[\"age\"].min()) / (df1[\"age\"].max() - df1[\"age\"].min())\n",
    "df1[\"age\"]= normalization_df1\n",
    "df1[\"age\"]\n",
    "\n",
    "normalization_df2 = (df2[\"age\"] - df2[\"age\"].min()) / (df2[\"age\"].max() - df2[\"age\"].min())\n",
    "df2[\"age\"]= normalization_df2\n",
    "df2[\"age\"]"
   ]
  },
  {
   "cell_type": "markdown",
   "id": "b1876cd8",
   "metadata": {},
   "source": [
    "# 저장 하기"
   ]
  },
  {
   "cell_type": "code",
   "execution_count": 44,
   "id": "4e5262b3",
   "metadata": {},
   "outputs": [],
   "source": [
    "df1.to_csv('testdata10.csv', encoding='utf-8-sig', index=False)\n",
    "df2.to_csv('traindata10.csv', encoding='utf-8-sig', index=False)"
   ]
  }
 ],
 "metadata": {
  "kernelspec": {
   "display_name": "Python 3.8.13",
   "language": "python",
   "name": "python3"
  },
  "language_info": {
   "codemirror_mode": {
    "name": "ipython",
    "version": 3
   },
   "file_extension": ".py",
   "mimetype": "text/x-python",
   "name": "python",
   "nbconvert_exporter": "python",
   "pygments_lexer": "ipython3",
   "version": "3.8.13"
  },
  "vscode": {
   "interpreter": {
    "hash": "4f05e964b4d2e4afbb91fe932de86bd0523d55968cb2083dd8663aabd8c2c6a1"
   }
  }
 },
 "nbformat": 4,
 "nbformat_minor": 5
}
