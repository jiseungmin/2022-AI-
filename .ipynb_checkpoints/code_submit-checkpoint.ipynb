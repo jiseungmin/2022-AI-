{
 "cells": [
  {
   "cell_type": "code",
   "execution_count": null,
   "metadata": {},
   "outputs": [],
   "source": [
    "!pip install pycaret\n",
    "!pip install MarkupSafe==2.0.1\n",
    "!pip install numba==0.53"
   ]
  },
  {
   "cell_type": "code",
   "execution_count": null,
   "metadata": {},
   "outputs": [],
   "source": [
    "from google.colab import drive\n",
    "drive.mount('/content/drive')"
   ]
  },
  {
   "cell_type": "code",
   "execution_count": null,
   "metadata": {},
   "outputs": [],
   "source": [
    "%cd /content/drive/MyDrive/데이콘\n",
    "path = '/content/drive/MyDrive/데이콘'"
   ]
  },
  {
   "cell_type": "code",
   "execution_count": null,
   "metadata": {},
   "outputs": [],
   "source": [
    "import pandas as pd\n",
    "train = pd.read_csv(path + '/traindata10.csv')\n",
    "test = pd.read_csv(path + '/testdata10.csv')\n",
    "submission = pd.read_csv(path + '/sample_submission.csv')\n",
    "train.shape"
   ]
  },
  {
   "cell_type": "code",
   "execution_count": null,
   "metadata": {},
   "outputs": [],
   "source": [
    "train1 = train.iloc[:,1:26]\n",
    "train2 = train.iloc[:,27:]\n",
    "print(train1.shape)\n",
    "print(train2.shape)"
   ]
  },
  {
   "cell_type": "code",
   "execution_count": null,
   "metadata": {},
   "outputs": [],
   "source": [
    "train.head()"
   ]
  },
  {
   "cell_type": "code",
   "execution_count": null,
   "metadata": {},
   "outputs": [],
   "source": [
    "train.columns"
   ]
  },
  {
   "cell_type": "code",
   "execution_count": null,
   "metadata": {},
   "outputs": [],
   "source": [
    "print(train.shape)\n",
    "print(test.shape)\n",
    "print(submission.shape)"
   ]
  },
  {
   "cell_type": "markdown",
   "metadata": {},
   "source": [
    "# 결측치 처리"
   ]
  },
  {
   "cell_type": "code",
   "execution_count": null,
   "metadata": {},
   "outputs": [],
   "source": [
    "# 결측치 평균값으로 대체\n",
    "#평균치로 조정(null값) 정수값으로 출력하기 위해  round로 반올림\n",
    "train = train.fillna(round(train.mean()))\n",
    "test = test.fillna(round(test.mean()))\n",
    "#null값이 있는지 확인\n",
    "train.isnull().sum()"
   ]
  },
  {
   "cell_type": "markdown",
   "id": "0c4a60f8",
   "metadata": {},
   "source": [
    "# 이상치 대체"
   ]
  },
  {
   "cell_type": "code",
   "execution_count": 18,
   "id": "33b7a4f4",
   "metadata": {},
   "outputs": [],
   "source": [
    "# introelapse testelapse surveyelapse Age familysize  -- 이상치는 최빈값으로 대체"
   ]
  },
  {
   "cell_type": "code",
   "execution_count": 19,
   "id": "20a98616",
   "metadata": {},
   "outputs": [
    {
     "data": {
      "text/plain": [
       "34.0"
      ]
     },
     "execution_count": 19,
     "metadata": {},
     "output_type": "execute_result"
    }
   ],
   "source": [
    "Q3, Q1 = np.percentile(df1[\"introelapse\"], [75 ,25])\n",
    "IQR1 = Q3 - Q1\n",
    "IQR1"
   ]
  },
  {
   "cell_type": "code",
   "execution_count": 20,
   "id": "09ff1494",
   "metadata": {
    "scrolled": true
   },
   "outputs": [
    {
     "name": "stderr",
     "output_type": "stream",
     "text": [
      "/Library/Frameworks/Python.framework/Versions/3.7/lib/python3.7/site-packages/ipykernel_launcher.py:1: SettingWithCopyWarning: \n",
      "A value is trying to be set on a copy of a slice from a DataFrame\n",
      "\n",
      "See the caveats in the documentation: https://pandas.pydata.org/pandas-docs/stable/user_guide/indexing.html#returning-a-view-versus-a-copy\n",
      "  \"\"\"Entry point for launching an IPython kernel.\n"
     ]
    }
   ],
   "source": [
    "df1[\"introelapse\"][(Q1-1.5*IQR1 > df1[\"introelapse\"])|(Q3+1.5*IQR1 < df1[\"introelapse\"])] = 2"
   ]
  },
  {
   "cell_type": "code",
   "execution_count": 21,
   "id": "08ea629e",
   "metadata": {
    "scrolled": true
   },
   "outputs": [
    {
     "data": {
      "text/plain": [
       "0         9\n",
       "1        18\n",
       "2         4\n",
       "3         2\n",
       "4        24\n",
       "         ..\n",
       "35447    10\n",
       "35448     2\n",
       "35449    27\n",
       "35450     3\n",
       "35451     2\n",
       "Name: introelapse, Length: 35452, dtype: int64"
      ]
     },
     "execution_count": 21,
     "metadata": {},
     "output_type": "execute_result"
    }
   ],
   "source": [
    "df1[\"introelapse\"]"
   ]
  },
  {
   "cell_type": "code",
   "execution_count": 22,
   "id": "c585abbc",
   "metadata": {},
   "outputs": [
    {
     "data": {
      "text/plain": [
       "32.0"
      ]
     },
     "execution_count": 22,
     "metadata": {},
     "output_type": "execute_result"
    }
   ],
   "source": [
    "Q3, Q1 = np.percentile(df2[\"introelapse\"], [75 ,25])\n",
    "IQR2 = Q3 - Q1\n",
    "IQR2"
   ]
  },
  {
   "cell_type": "code",
   "execution_count": 23,
   "id": "9a36dd57",
   "metadata": {},
   "outputs": [
    {
     "name": "stderr",
     "output_type": "stream",
     "text": [
      "/Library/Frameworks/Python.framework/Versions/3.7/lib/python3.7/site-packages/ipykernel_launcher.py:1: SettingWithCopyWarning: \n",
      "A value is trying to be set on a copy of a slice from a DataFrame\n",
      "\n",
      "See the caveats in the documentation: https://pandas.pydata.org/pandas-docs/stable/user_guide/indexing.html#returning-a-view-versus-a-copy\n",
      "  \"\"\"Entry point for launching an IPython kernel.\n"
     ]
    }
   ],
   "source": [
    "df2[\"introelapse\"][(Q1-1.5*IQR2 > df2[\"introelapse\"])|(Q3+1.5*IQR2 < df2[\"introelapse\"])] = 2"
   ]
  },
  {
   "cell_type": "code",
   "execution_count": 24,
   "id": "a002639e",
   "metadata": {
    "scrolled": false
   },
   "outputs": [
    {
     "data": {
      "text/plain": [
       "0         3\n",
       "1         5\n",
       "2         9\n",
       "3         2\n",
       "4         3\n",
       "         ..\n",
       "14995    12\n",
       "14996    31\n",
       "14997    17\n",
       "14998    14\n",
       "14999     8\n",
       "Name: introelapse, Length: 15000, dtype: int64"
      ]
     },
     "execution_count": 24,
     "metadata": {},
     "output_type": "execute_result"
    }
   ],
   "source": [
    "df2[\"introelapse\"]"
   ]
  },
  {
   "cell_type": "code",
   "execution_count": 25,
   "id": "56698d06",
   "metadata": {},
   "outputs": [
    {
     "data": {
      "text/plain": [
       "58.0"
      ]
     },
     "execution_count": 25,
     "metadata": {},
     "output_type": "execute_result"
    }
   ],
   "source": [
    "Q3, Q1 = np.percentile(df1[\"testelapse\"], [75 ,25])\n",
    "IQR1 = Q3 - Q1\n",
    "IQR1"
   ]
  },
  {
   "cell_type": "code",
   "execution_count": 26,
   "id": "96929c09",
   "metadata": {},
   "outputs": [
    {
     "name": "stderr",
     "output_type": "stream",
     "text": [
      "/Library/Frameworks/Python.framework/Versions/3.7/lib/python3.7/site-packages/ipykernel_launcher.py:1: SettingWithCopyWarning: \n",
      "A value is trying to be set on a copy of a slice from a DataFrame\n",
      "\n",
      "See the caveats in the documentation: https://pandas.pydata.org/pandas-docs/stable/user_guide/indexing.html#returning-a-view-versus-a-copy\n",
      "  \"\"\"Entry point for launching an IPython kernel.\n"
     ]
    }
   ],
   "source": [
    "df1[\"testelapse\"][(Q1-1.5*IQR1 > df1[\"testelapse\"])|(Q3+1.5*IQR1 < df1[\"testelapse\"])] = 94"
   ]
  },
  {
   "cell_type": "code",
   "execution_count": 27,
   "id": "beda17c1",
   "metadata": {},
   "outputs": [
    {
     "data": {
      "text/plain": [
       "0        114\n",
       "1        107\n",
       "2         87\n",
       "3        155\n",
       "4        163\n",
       "        ... \n",
       "35447    200\n",
       "35448    136\n",
       "35449    121\n",
       "35450     58\n",
       "35451     94\n",
       "Name: testelapse, Length: 35452, dtype: int64"
      ]
     },
     "execution_count": 27,
     "metadata": {},
     "output_type": "execute_result"
    }
   ],
   "source": [
    "df1[\"testelapse\"]"
   ]
  },
  {
   "cell_type": "code",
   "execution_count": 28,
   "id": "966ff11e",
   "metadata": {},
   "outputs": [
    {
     "data": {
      "text/plain": [
       "58.0"
      ]
     },
     "execution_count": 28,
     "metadata": {},
     "output_type": "execute_result"
    }
   ],
   "source": [
    "Q3, Q1 = np.percentile(df2[\"testelapse\"], [75 ,25])\n",
    "IQR2 = Q3 - Q1\n",
    "IQR2"
   ]
  },
  {
   "cell_type": "code",
   "execution_count": 29,
   "id": "d3dcfeab",
   "metadata": {},
   "outputs": [
    {
     "name": "stderr",
     "output_type": "stream",
     "text": [
      "/Library/Frameworks/Python.framework/Versions/3.7/lib/python3.7/site-packages/ipykernel_launcher.py:1: SettingWithCopyWarning: \n",
      "A value is trying to be set on a copy of a slice from a DataFrame\n",
      "\n",
      "See the caveats in the documentation: https://pandas.pydata.org/pandas-docs/stable/user_guide/indexing.html#returning-a-view-versus-a-copy\n",
      "  \"\"\"Entry point for launching an IPython kernel.\n"
     ]
    }
   ],
   "source": [
    "df2[\"testelapse\"][(Q1-1.5*IQR2 > df2[\"testelapse\"])|(Q3+1.5*IQR2 < df2[\"testelapse\"])] = 94"
   ]
  },
  {
   "cell_type": "code",
   "execution_count": 30,
   "id": "662631ae",
   "metadata": {
    "scrolled": true
   },
   "outputs": [
    {
     "data": {
      "text/plain": [
       "0         94\n",
       "1         85\n",
       "2        108\n",
       "3        121\n",
       "4         94\n",
       "        ... \n",
       "14995    103\n",
       "14996    106\n",
       "14997    103\n",
       "14998     68\n",
       "14999    182\n",
       "Name: testelapse, Length: 15000, dtype: int64"
      ]
     },
     "execution_count": 30,
     "metadata": {},
     "output_type": "execute_result"
    }
   ],
   "source": [
    "df2[\"testelapse\"]"
   ]
  },
  {
   "cell_type": "code",
   "execution_count": 31,
   "id": "478622f3",
   "metadata": {},
   "outputs": [
    {
     "data": {
      "text/plain": [
       "89.25"
      ]
     },
     "execution_count": 31,
     "metadata": {},
     "output_type": "execute_result"
    }
   ],
   "source": [
    "Q3, Q1 = np.percentile(df1[\"surveyelapse\"], [75 ,25])\n",
    "IQR1 = Q3 - Q1\n",
    "IQR1"
   ]
  },
  {
   "cell_type": "code",
   "execution_count": 32,
   "id": "826bf302",
   "metadata": {},
   "outputs": [
    {
     "name": "stderr",
     "output_type": "stream",
     "text": [
      "/Library/Frameworks/Python.framework/Versions/3.7/lib/python3.7/site-packages/ipykernel_launcher.py:1: SettingWithCopyWarning: \n",
      "A value is trying to be set on a copy of a slice from a DataFrame\n",
      "\n",
      "See the caveats in the documentation: https://pandas.pydata.org/pandas-docs/stable/user_guide/indexing.html#returning-a-view-versus-a-copy\n",
      "  \"\"\"Entry point for launching an IPython kernel.\n"
     ]
    }
   ],
   "source": [
    "df1[\"surveyelapse\"][(Q1-1.5*IQR1 > df1[\"surveyelapse\"])|(Q3+1.5*IQR1 < df1[\"surveyelapse\"])] = 145"
   ]
  },
  {
   "cell_type": "code",
   "execution_count": 33,
   "id": "3cd58752",
   "metadata": {},
   "outputs": [
    {
     "data": {
      "text/plain": [
       "0        243\n",
       "1        206\n",
       "2        191\n",
       "3        258\n",
       "4        289\n",
       "        ... \n",
       "35447    254\n",
       "35448    155\n",
       "35449    191\n",
       "35450    105\n",
       "35451    178\n",
       "Name: surveyelapse, Length: 35452, dtype: int64"
      ]
     },
     "execution_count": 33,
     "metadata": {},
     "output_type": "execute_result"
    }
   ],
   "source": [
    "df1[\"surveyelapse\"]"
   ]
  },
  {
   "cell_type": "code",
   "execution_count": 34,
   "id": "bb46e210",
   "metadata": {},
   "outputs": [
    {
     "data": {
      "text/plain": [
       "91.0"
      ]
     },
     "execution_count": 34,
     "metadata": {},
     "output_type": "execute_result"
    }
   ],
   "source": [
    "Q3, Q1 = np.percentile(df2[\"surveyelapse\"], [75 ,25])\n",
    "IQR2 = Q3 - Q1\n",
    "IQR2"
   ]
  },
  {
   "cell_type": "code",
   "execution_count": 35,
   "id": "b4c03013",
   "metadata": {},
   "outputs": [
    {
     "name": "stderr",
     "output_type": "stream",
     "text": [
      "/Library/Frameworks/Python.framework/Versions/3.7/lib/python3.7/site-packages/ipykernel_launcher.py:1: SettingWithCopyWarning: \n",
      "A value is trying to be set on a copy of a slice from a DataFrame\n",
      "\n",
      "See the caveats in the documentation: https://pandas.pydata.org/pandas-docs/stable/user_guide/indexing.html#returning-a-view-versus-a-copy\n",
      "  \"\"\"Entry point for launching an IPython kernel.\n"
     ]
    }
   ],
   "source": [
    "df2[\"surveyelapse\"][(Q1-1.5*IQR2 > df2[\"surveyelapse\"])|(Q3+1.5*IQR2 < df2[\"surveyelapse\"])] = 145"
   ]
  },
  {
   "cell_type": "code",
   "execution_count": 36,
   "id": "2ca2ebcf",
   "metadata": {},
   "outputs": [
    {
     "data": {
      "text/plain": [
       "0          6\n",
       "1        120\n",
       "2        100\n",
       "3        139\n",
       "4        216\n",
       "        ... \n",
       "14995    161\n",
       "14996    179\n",
       "14997    168\n",
       "14998    109\n",
       "14999    348\n",
       "Name: surveyelapse, Length: 15000, dtype: int64"
      ]
     },
     "execution_count": 36,
     "metadata": {},
     "output_type": "execute_result"
    }
   ],
   "source": [
    "df2[\"surveyelapse\"]"
   ]
  },
  {
   "cell_type": "code",
   "execution_count": 17,
   "id": "1f748506",
   "metadata": {},
   "outputs": [
    {
     "data": {
      "text/plain": [
       "10.0"
      ]
     },
     "execution_count": 17,
     "metadata": {},
     "output_type": "execute_result"
    }
   ],
   "source": [
    "Q3, Q1 = np.percentile(df1[\"age\"], [75 ,25])\n",
    "IQR1 = Q3 - Q1\n",
    "IQR1"
   ]
  },
  {
   "cell_type": "code",
   "execution_count": 18,
   "id": "29daa47e",
   "metadata": {},
   "outputs": [],
   "source": [
    "error = df1[\"age\"][(Q1-1.5*IQR1 > df1[\"age\"])|(Q3+1.5*IQR1 < df1[\"age\"])]\n",
    "for i in error :\n",
    "    if i > 100 :\n",
    "        i = 18"
   ]
  },
  {
   "cell_type": "code",
   "execution_count": 39,
   "id": "b067436d",
   "metadata": {
    "scrolled": true
   },
   "outputs": [
    {
     "data": {
      "text/plain": [
       "0        19\n",
       "1        33\n",
       "2        13\n",
       "3        28\n",
       "4        15\n",
       "         ..\n",
       "35447    16\n",
       "35448    16\n",
       "35449    31\n",
       "35450    19\n",
       "35451    14\n",
       "Name: age, Length: 35452, dtype: int64"
      ]
     },
     "execution_count": 39,
     "metadata": {},
     "output_type": "execute_result"
    }
   ],
   "source": [
    "df1[\"age\"]"
   ]
  },
  {
   "cell_type": "code",
   "execution_count": 19,
   "id": "63d7ff9f",
   "metadata": {},
   "outputs": [
    {
     "data": {
      "text/plain": [
       "10.0"
      ]
     },
     "execution_count": 19,
     "metadata": {},
     "output_type": "execute_result"
    }
   ],
   "source": [
    "Q3, Q1 = np.percentile(df2[\"age\"], [75 ,25])\n",
    "IQR2 = Q3 - Q1\n",
    "IQR2"
   ]
  },
  {
   "cell_type": "code",
   "execution_count": 20,
   "id": "e9307ab3",
   "metadata": {},
   "outputs": [],
   "source": [
    "error2 = df2[\"age\"][(Q1-1.5*IQR2 > df2[\"age\"])|(Q3+1.5*IQR2 < df2[\"age\"])]\n",
    "for i in error2 :\n",
    "    if i > 100 :\n",
    "        i = 18"
   ]
  },
  {
   "cell_type": "code",
   "execution_count": 42,
   "id": "24a173d1",
   "metadata": {
    "scrolled": true
   },
   "outputs": [
    {
     "data": {
      "text/plain": [
       "0        20\n",
       "1        49\n",
       "2        43\n",
       "3        17\n",
       "4        18\n",
       "         ..\n",
       "14995    17\n",
       "14996    45\n",
       "14997    20\n",
       "14998    29\n",
       "14999    21\n",
       "Name: age, Length: 15000, dtype: int64"
      ]
     },
     "execution_count": 42,
     "metadata": {},
     "output_type": "execute_result"
    }
   ],
   "source": [
    "df2[\"age\"]"
   ]
  },
  {
   "cell_type": "code",
   "execution_count": null,
   "metadata": {},
   "outputs": [],
   "source": []
  },
  {
   "cell_type": "code",
   "execution_count": null,
   "metadata": {},
   "outputs": [],
   "source": []
  },
  {
   "cell_type": "code",
   "execution_count": null,
   "metadata": {},
   "outputs": [],
   "source": []
  },
  {
   "cell_type": "code",
   "execution_count": null,
   "metadata": {},
   "outputs": [],
   "source": []
  },
  {
   "cell_type": "code",
   "execution_count": null,
   "metadata": {},
   "outputs": [],
   "source": [
    "import jinja2\n",
    "from pycaret.classification import *"
   ]
  },
  {
   "cell_type": "code",
   "execution_count": null,
   "metadata": {},
   "outputs": [],
   "source": [
    "clf = setup(data = train, target = 'nerdiness')"
   ]
  },
  {
   "cell_type": "code",
   "execution_count": null,
   "metadata": {},
   "outputs": [],
   "source": [
    "best_3 = compare_models(sort = 'AUC', n_select = 3)"
   ]
  },
  {
   "cell_type": "code",
   "execution_count": null,
   "metadata": {},
   "outputs": [],
   "source": [
    "blended = blend_models(estimator_list = best_3, fold = 5, method = 'soft')"
   ]
  },
  {
   "cell_type": "code",
   "execution_count": null,
   "metadata": {},
   "outputs": [],
   "source": [
    "pred_holdout = predict_model(blended)"
   ]
  },
  {
   "cell_type": "code",
   "execution_count": null,
   "metadata": {},
   "outputs": [],
   "source": [
    "final_model = finalize_model(blended)"
   ]
  },
  {
   "cell_type": "code",
   "execution_count": null,
   "metadata": {},
   "outputs": [],
   "source": [
    "predictions = predict_model(final_model, data = test)"
   ]
  },
  {
   "cell_type": "code",
   "execution_count": null,
   "metadata": {},
   "outputs": [],
   "source": [
    "predictions"
   ]
  },
  {
   "cell_type": "code",
   "execution_count": null,
   "metadata": {},
   "outputs": [],
   "source": [
    "submission['nerdiness'] = predictions['Label']"
   ]
  },
  {
   "cell_type": "code",
   "execution_count": null,
   "metadata": {},
   "outputs": [],
   "source": [
    "submission.to_csv('submission_ver108.csv', index = False)"
   ]
  }
 ],
 "metadata": {
  "kernelspec": {
   "display_name": "Python 3 (ipykernel)",
   "language": "python",
   "name": "python3"
  },
  "language_info": {
   "codemirror_mode": {
    "name": "ipython",
    "version": 3
   },
   "file_extension": ".py",
   "mimetype": "text/x-python",
   "name": "python",
   "nbconvert_exporter": "python",
   "pygments_lexer": "ipython3",
   "version": "3.7.8"
  },
  "vscode": {
   "interpreter": {
    "hash": "4f05e964b4d2e4afbb91fe932de86bd0523d55968cb2083dd8663aabd8c2c6a1"
   }
  }
 },
 "nbformat": 4,
 "nbformat_minor": 2
}
